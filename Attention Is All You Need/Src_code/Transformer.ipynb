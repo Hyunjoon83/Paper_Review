{
  "nbformat": 4,
  "nbformat_minor": 0,
  "metadata": {
    "colab": {
      "provenance": []
    },
    "kernelspec": {
      "name": "python3",
      "display_name": "Python 3"
    },
    "language_info": {
      "name": "python"
    }
  },
  "cells": [
    {
      "cell_type": "code",
      "source": [
        "import torch\n",
        "import torch.nn as nn\n",
        "import torch.nn.functional as F\n",
        "import torch.optim as optim\n",
        "from torch.utils.data import DataLoader, TensorDataset\n",
        "\n",
        "import numpy as np\n",
        "import pandas as pd\n",
        "import matplotlib.pyplot as plt\n",
        "\n",
        "import math"
      ],
      "metadata": {
        "id": "2LUOVDqzfhGz"
      },
      "execution_count": 15,
      "outputs": []
    },
    {
      "cell_type": "code",
      "source": [
        "class Encoder(nn.Module):\n",
        "  def __init__(self, input_dim, hidden_dim, num_heads, num_layers):\n",
        "    super(Encoder, self).__init__()\n",
        "    self.embedding = nn.Embedding(input_dim, hidden_dim)\n",
        "    self.transformer_encoder = nn.TransformerEncoder(\n",
        "        nn.TransformerEncoderLayer(\n",
        "            d_model = hidden_dim,\n",
        "            nhead=num_heads\n",
        "        ),\n",
        "        num_layers = num_layers\n",
        "    )\n",
        "\n",
        "  def forward(self, src):\n",
        "    src = self.embedding(src)\n",
        "    output = self.transformer_encoder(src)\n",
        "    return output"
      ],
      "metadata": {
        "id": "4lzWb_MSglAm"
      },
      "execution_count": 11,
      "outputs": []
    },
    {
      "cell_type": "code",
      "source": [
        "class Decoder(nn.Module):\n",
        "  def __init__(self, output_dim, hidden_dim, num_heads, num_layers):\n",
        "    super(Decoder, self).__init__()\n",
        "    self.transformer_decoder = nn.TransformerDecoder(\n",
        "        nn.TransformerDecoderLayer(\n",
        "            d_model = hidden_dim,\n",
        "            nhead = num_heads\n",
        "        ),\n",
        "        num_layers = num_layers\n",
        "    )\n",
        "    self.fc = nn.Linear(hidden_dim, output_dim)\n",
        "\n",
        "  def forward(self, memory, target):\n",
        "    output = self.transformer_decoder(target, memory)\n",
        "    output = self.fc(output)\n",
        "    return output"
      ],
      "metadata": {
        "id": "mWYJCyVIhnl7"
      },
      "execution_count": 12,
      "outputs": []
    },
    {
      "cell_type": "code",
      "source": [
        "class MultiheadAttention(nn.Module):\n",
        "    def __init__(self, hidden_dim, num_heads):\n",
        "        super(MultiheadAttention, self).__init__()\n",
        "        self.multihead_attention = nn.MultiheadAttention(\n",
        "            embed_dim=hidden_dim,\n",
        "            num_heads=num_heads\n",
        "        )\n",
        "        self.layer_norm = nn.LayerNorm(hidden_dim)\n",
        "\n",
        "    def forward(self, x):\n",
        "        x = x.permute(1, 0, 2)  # Change the input shape for Multihead Attention\n",
        "        x, _ = self.multihead_attention(x, x, x)\n",
        "        x = x.permute(1, 0, 2)  # Reshape it back\n",
        "        x = x + x  # Residual connection\n",
        "        x = self.layer_norm(x)\n",
        "        return x\n",
        "\n",
        "class Feedforward(nn.Module):\n",
        "    def __init__(self, hidden_dim, ff_dim):\n",
        "        super(Feedforward, self).__init__()\n",
        "        self.feedforward = nn.Sequential(\n",
        "            nn.Linear(hidden_dim, ff_dim),\n",
        "            nn.ReLU(),\n",
        "            nn.Linear(ff_dim, hidden_dim)\n",
        "        )\n",
        "        self.layer_norm = nn.LayerNorm(hidden_dim)\n",
        "\n",
        "    def forward(self, x):\n",
        "        x = self.feedforward(x)\n",
        "        x = x + x  # Residual connection\n",
        "        x = self.layer_norm(x)\n",
        "        return x"
      ],
      "metadata": {
        "id": "cjCWF5bJihs8"
      },
      "execution_count": 25,
      "outputs": []
    },
    {
      "cell_type": "code",
      "source": [
        "class TransformerModel(nn.Module):\n",
        "    def __init__(self, input_dim, output_dim, hidden_dim, num_heads, num_layers, ff_dim):\n",
        "        super(TransformerModel, self).__init__()\n",
        "        self.embedding = nn.Embedding(input_dim, hidden_dim)\n",
        "        self.transformer_encoder = nn.TransformerEncoder(\n",
        "            nn.TransformerEncoderLayer(\n",
        "                d_model=hidden_dim,\n",
        "                nhead=num_heads\n",
        "            ),\n",
        "            num_layers=num_layers\n",
        "        )\n",
        "        self.multihead_attention = MultiheadAttention(hidden_dim, num_heads)\n",
        "        self.feedforward = Feedforward(hidden_dim, ff_dim)\n",
        "        self.fc = nn.Linear(hidden_dim, output_dim)\n",
        "\n",
        "    def forward(self, src, tgt):\n",
        "        src = self.embedding(src)\n",
        "        tgt = self.embedding(tgt)\n",
        "\n",
        "        encoder_output = self.transformer_encoder(src)\n",
        "        decoder_input = self.multihead_attention(tgt)\n",
        "        decoder_output = self.feedforward(decoder_input)\n",
        "\n",
        "        output = self.fc(decoder_output)\n",
        "        return output"
      ],
      "metadata": {
        "id": "JR0Wo94lfkl-"
      },
      "execution_count": 26,
      "outputs": []
    },
    {
      "cell_type": "code",
      "source": [
        "input_dim = 1000\n",
        "output_dim = 10\n",
        "train_data = torch.randint(0, input_dim, (1000, 20))  # 예시 데이터\n",
        "train_labels = torch.randint(0, output_dim, (1000,))\n",
        "\n",
        "train_dataset = TensorDataset(train_data, train_labels)\n",
        "train_dataloader = DataLoader(train_dataset, batch_size=32, shuffle=True)\n",
        "\n",
        "model = TransformerModel(input_dim, output_dim, hidden_dim=64, num_heads=4, num_layers=2, ff_dim=128)\n",
        "\n",
        "criterion = nn.CrossEntropyLoss()\n",
        "optimizer = optim.Adam(model.parameters(), lr=0.001)\n",
        "\n",
        "losses = []\n",
        "\n",
        "for epoch in range(10):\n",
        "    total_loss = 0.0\n",
        "    for data, labels in train_dataloader:\n",
        "        optimizer.zero_grad()\n",
        "\n",
        "        # 모델의 forward 메서드 호출\n",
        "        outputs = model(data, data)\n",
        "\n",
        "        # target 크기를 모델 출력과 일치하도록 변경\n",
        "        labels = labels.unsqueeze(1).expand(-1,10)\n",
        "\n",
        "        loss = criterion(outputs, labels)\n",
        "        loss.backward()\n",
        "        optimizer.step()\n",
        "        total_loss += loss.item()\n",
        "\n",
        "    average_loss = total_loss / len(train_dataloader)\n",
        "    losses.append(average_loss)\n",
        "    print(f'Epoch [{epoch + 1}/10], Loss: {average_loss:.4f}')\n",
        "\n",
        "plt.plot(losses)\n",
        "plt.xlabel('Epochs')\n",
        "plt.ylabel('Average Loss')\n",
        "plt.title('Training Loss Over Epochs')\n",
        "plt.show()"
      ],
      "metadata": {
        "colab": {
          "base_uri": "https://localhost:8080/",
          "height": 715
        },
        "id": "JRJtnzyUjusR",
        "outputId": "4863921a-6c58-4075-f7ce-fe4d6e1686a2"
      },
      "execution_count": 30,
      "outputs": [
        {
          "output_type": "stream",
          "name": "stderr",
          "text": [
            "/usr/local/lib/python3.10/dist-packages/torch/nn/modules/transformer.py:282: UserWarning: enable_nested_tensor is True, but self.use_nested_tensor is False because encoder_layer.self_attn.batch_first was not True(use batch_first for better inference performance)\n",
            "  warnings.warn(f\"enable_nested_tensor is True, but self.use_nested_tensor is False because {why_not_sparsity_fast_path}\")\n"
          ]
        },
        {
          "output_type": "stream",
          "name": "stdout",
          "text": [
            "Epoch [1/10], Loss: 3.0078\n",
            "Epoch [2/10], Loss: 2.8897\n",
            "Epoch [3/10], Loss: 2.5213\n",
            "Epoch [4/10], Loss: 1.9249\n",
            "Epoch [5/10], Loss: 1.2183\n",
            "Epoch [6/10], Loss: 0.7704\n",
            "Epoch [7/10], Loss: 0.4649\n",
            "Epoch [8/10], Loss: 0.2762\n",
            "Epoch [9/10], Loss: 0.1602\n",
            "Epoch [10/10], Loss: 0.0883\n"
          ]
        },
        {
          "output_type": "display_data",
          "data": {
            "text/plain": [
              "<Figure size 640x480 with 1 Axes>"
            ],
            "image/png": "[encoded data removed]"
          },
          "metadata": {}
        }
      ]
    }
  ]
}